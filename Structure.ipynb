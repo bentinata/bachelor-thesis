{
 "cells": [
  {
   "cell_type": "markdown",
   "id": "ea325d89",
   "metadata": {},
   "source": [
    "# Introduction\n",
    "This notebook was the coding part of my bachelor thesis, titled **The Effect of Fluorination on the Structure and Dynamics of the Hexapeptide VG(Abu)APG**. In this project, I tried to isolate the effect of fluorinated Abu (mono-, di- and trifluorination) by studying it on a small hexapeptide, which is derived from VGLAPG to study the structure and its kinetics.\n",
    "\n",
    "The simulation itself was carried on GROMACS 2019.1 using the topology created in PyMol. Here we only analyze their structure by analyzing their Ramachandran plot, side chain torsion angle profiles ($\\chi_1$), end-to-end distance and the formed intramolecular hydrogen bonds.\n",
    "\n",
    "In this published project, I only use a shorter trajectory length (100 ns instead of 500 ns) due to the size of the file. In the production run in GROMACS, each hexapeptides were simulated for a total time of 100 ns with 2 fs timestep and the trajectories were saved every picosecond, so in the end we have 100.000 data points."
   ]
  },
  {
   "cell_type": "markdown",
   "id": "f555d19c",
   "metadata": {},
   "source": [
    "A visualization of the hexapeptide:\n",
    "\n",
    "![VGXAPG%20uncapped.png](./VGXAPG_uncapped.png)"
   ]
  },
  {
   "cell_type": "code",
   "execution_count": null,
   "id": "26561255",
   "metadata": {
    "scrolled": true
   },
   "outputs": [],
   "source": [
    "import matplotlib as mpl\n",
    "import matplotlib.pyplot as plt\n",
    "import numpy as np\n",
    "import mdtraj as md\n",
    "import seaborn as sns\n",
    "import pandas as pd\n",
    "%matplotlib inline\n",
    "from matplotlib.cm import ScalarMappable\n",
    "from mpl_toolkits.axes_grid1.axes_divider import make_axes_locatable\n",
    "import warnings\n",
    "warnings.filterwarnings(\"ignore\")\n",
    "\n",
    "# publication-ready graph settings\n",
    "plt.rcParams['figure.figsize'] = [7, 5]\n",
    "plt.rc('font', family='serif')\n",
    "plt.rc('xtick', labelsize='medium')\n",
    "plt.rc('ytick', labelsize='medium')"
   ]
  },
  {
   "cell_type": "code",
   "execution_count": null,
   "id": "aefcd913",
   "metadata": {},
   "outputs": [],
   "source": [
    "fluorinations = {\n",
    "  \"abu\": { \"name\": \"Abu\" },\n",
    "  \"mfe\": { \"name\": \"Mfe\" },\n",
    "  \"dfe\": { \"name\": \"Dfe\" },\n",
    "  \"tfe\": { \"name\": \"Tfe\" },\n",
    "}"
   ]
  },
  {
   "cell_type": "markdown",
   "id": "010f3643",
   "metadata": {},
   "source": [
    "# Loading Trajectories\n",
    "\n",
    "After generating the topology file in PyMol, a series of 100 ns trajectory from 4 different hexapeptide mutants were generated in Gromacs 2019.1. The trajectories are then being loaded using `mdtraj` package."
   ]
  },
  {
   "cell_type": "code",
   "execution_count": null,
   "id": "f77672ce",
   "metadata": {},
   "outputs": [],
   "source": [
    "for k, f in fluorinations.items():\n",
    "  f[\"trajectory\"] = md.load_xtc(\"traj_%s_100.xtc\" % (k), top = \"md_%s.pdb\" % (k))"
   ]
  },
  {
   "cell_type": "markdown",
   "id": "8157316d",
   "metadata": {},
   "source": [
    "## Sliced trajectory\n",
    "\n",
    "to build its mean, we slice the trajectory into 5 small portions with the same length of 20.000 ns and build the average over them."
   ]
  },
  {
   "cell_type": "code",
   "execution_count": null,
   "id": "395f2564",
   "metadata": {},
   "outputs": [],
   "source": [
    "slice = 20_000\n",
    "\n",
    "for k, f in fluorinations.items():\n",
    "  f[\"sliced_trajectory\"] = [f[\"trajectory\"][slice*x:slice*(1+x)] for x in range(5)]"
   ]
  },
  {
   "cell_type": "markdown",
   "id": "0c413a41",
   "metadata": {},
   "source": [
    "# Fitted Trajectory"
   ]
  },
  {
   "cell_type": "code",
   "execution_count": null,
   "id": "75c43671",
   "metadata": {},
   "outputs": [],
   "source": [
    "def calculate_fitted_trajectory(x, f):\n",
    "  return f[\"sliced_trajectory\"][x].superpose(\n",
    "      f[\"sliced_trajectory\"][x],\n",
    "      frame = 0,\n",
    "      atom_indices = f[\"sliced_trajectory\"][x].topology.select(\"protein and backbone\"),\n",
    "      ref_atom_indices = None,\n",
    "      parallel = True\n",
    "    ).center_coordinates()\n",
    "\n",
    "for k, f in fluorinations.items():\n",
    "  f[\"fitted_trajectory\"] = [calculate_fitted_trajectory(x, f) for x in range(5)]"
   ]
  },
  {
   "cell_type": "markdown",
   "id": "14662fa2",
   "metadata": {},
   "source": [
    "# Sidechain and Backbone"
   ]
  },
  {
   "cell_type": "code",
   "execution_count": null,
   "id": "22163d14",
   "metadata": {},
   "outputs": [],
   "source": [
    "for k, f in fluorinations.items():\n",
    "    f[\"sidechain\"] = [x.topology.select(\"sidechain\") for x in f[\"sliced_trajectory\"]]\n",
    "    f[\"backbone\"] = [x.topology.select(\"backbone\") for x in f[\"sliced_trajectory\"]]"
   ]
  },
  {
   "cell_type": "markdown",
   "id": "54d885ca",
   "metadata": {},
   "source": [
    "## Root-mean-square deviation of atomic positions (RMSD)\n",
    "\n",
    "Root-mean-square deviation of atomic positions (RMSD) is a measure of the average distance between the atoms (usually the backbone atoms) of superimposed proteins."
   ]
  },
  {
   "cell_type": "code",
   "execution_count": null,
   "id": "7108f8da",
   "metadata": {},
   "outputs": [],
   "source": [
    "for k, f in fluorinations.items():\n",
    "  f[\"rmsd\"] = md.rmsd(f[\"trajectory\"], f[\"trajectory\"], frame=0, atom_indices=None)"
   ]
  },
  {
   "cell_type": "code",
   "execution_count": null,
   "id": "26771f27",
   "metadata": {},
   "outputs": [],
   "source": [
    "fig, ax = plt.subplots(1,4, figsize=(12,3), sharex=True, sharey=True)\n",
    "\n",
    "for i, (k, f) in enumerate(fluorinations.items()):\n",
    "  sns.kdeplot(f[\"rmsd\"], ax = ax[i])\n",
    "  ax[i].set_title(f[\"name\"])\n",
    "\n",
    "fig.text(0.4, 1, \"RMSD of total length of Abu, Mfe, Dfe, and Tfe\", fontsize=14)\n",
    "fig.text(0.5, 0, \"RMSD\")\n",
    "\n",
    "plt.show()\n"
   ]
  },
  {
   "cell_type": "markdown",
   "id": "0dc84b35",
   "metadata": {},
   "source": [
    "# Ramachandran\n",
    "## Of the total length 100 ns\n",
    "still using unsliced trajectory"
   ]
  },
  {
   "cell_type": "code",
   "execution_count": null,
   "id": "5477049b",
   "metadata": {},
   "outputs": [],
   "source": [
    "amino_acids = { x:{} for x in [\"val\", \"gly\", \"exg\", \"ala\", \"pro\"] }"
   ]
  },
  {
   "cell_type": "code",
   "execution_count": null,
   "id": "02be8352",
   "metadata": {},
   "outputs": [],
   "source": [
    "for k, f in fluorinations.items():\n",
    "  f[\"phi\"] = md.compute_phi(f[\"trajectory\"], periodic=True)\n",
    "  f[\"psi\"] = md.compute_psi(f[\"trajectory\"], periodic=True)"
   ]
  },
  {
   "cell_type": "markdown",
   "id": "314a7d95",
   "metadata": {},
   "source": [
    "# Coordinate of phi and psi\n",
    "\n",
    "Taking abu as the input because in all 4 they are the same"
   ]
  },
  {
   "cell_type": "code",
   "execution_count": null,
   "id": "7405269f",
   "metadata": {},
   "outputs": [],
   "source": [
    "r_phi = fluorinations[\"abu\"][\"phi\"][0]\n",
    "r_psi = fluorinations[\"abu\"][\"psi\"][0]"
   ]
  },
  {
   "cell_type": "markdown",
   "id": "5a1ee73c",
   "metadata": {},
   "source": [
    "# Phi and psi for each amino acid"
   ]
  },
  {
   "cell_type": "code",
   "execution_count": null,
   "id": "44f2bc84",
   "metadata": {},
   "outputs": [],
   "source": [
    "for i, (k, acid) in enumerate(amino_acids.items()):\n",
    "  acid[\"phi\"] = r_phi[i]\n",
    "  acid[\"psi\"] = r_psi[i]"
   ]
  },
  {
   "cell_type": "markdown",
   "id": "93ec5955",
   "metadata": {},
   "source": [
    "# Rad2deg"
   ]
  },
  {
   "cell_type": "code",
   "execution_count": null,
   "id": "ceea81d2",
   "metadata": {},
   "outputs": [],
   "source": [
    "for k, f in fluorinations.items():\n",
    "  f[\"angles\"] = { k_acid: np.rad2deg(md.compute_dihedrals(f[\"trajectory\"], (acid[\"phi\"], acid[\"psi\"]))) for k_acid, acid in amino_acids.items() }\n",
    "  f[\"hist\"] = {}\n",
    "  f[\"x\"] = {}\n",
    "  f[\"hist\"][\"phi\"], f[\"x\"][\"phi\"] = np.histogram(f[\"angles\"][\"pro\"], bins=12, density=True)\n",
    "  f[\"hist\"][\"psi\"], f[\"x\"][\"psi\"] = np.histogram(f[\"angles\"][\"pro\"], bins=12, density=True)"
   ]
  },
  {
   "cell_type": "code",
   "execution_count": null,
   "id": "10d6cec9",
   "metadata": {},
   "outputs": [],
   "source": [
    "# This code is weird because 5 angles:\n",
    "# angles_mfe_val, angles_mfe_gly, angles_mfe_exg, angles_mfe_ala, angles_mfe_pro\n",
    "# mapped into 1 hist_mfe_phi\n",
    "\n",
    "# for i in name:\n",
    "#     for j in aa:\n",
    "#         globals()['hist_%s_phi' % i], globals()['x_%s_phi' % i] = np.histogram(globals()['angles_%s_%s' % (i,j)], bins = 12, density = True)\n",
    "#         globals()['hist_%s_psi' % i], globals()['x_%s_psi' % i] = np.histogram(globals()['angles_%s_%s' % (i,j)], bins = 12, density = True)"
   ]
  },
  {
   "cell_type": "code",
   "execution_count": null,
   "id": "980c6067",
   "metadata": {},
   "outputs": [],
   "source": [
    "fig, ax = plt.subplots(1, 4, figsize=(11, 11))\n",
    "ticks = [*range(-180, 181, 60)]\n",
    "plt.setp(ax, xticks=ticks, yticks=ticks, xlim=(-180, 180), ylim=(-180, 180))\n",
    "\n",
    "for i, (k, f) in enumerate(fluorinations.items()):\n",
    "  ax[i].set_box_aspect(1)\n",
    "  ax[i].axhline(y=0, color='k', lw=0.5)\n",
    "  ax[i].axvline(x=0, color='k', lw=0.5)\n",
    "  \n",
    "  ax[i].hist2d(f[\"angles\"][\"exg\"][:, 0], f[\"angles\"][\"exg\"][:, 1], bins=(100, 100), cmin=1)\n",
    "  ax[i].set_title(f[\"name\"])\n",
    "  ax[i].grid(b=True, color=\"black\", alpha=0.2)\n",
    "\n",
    "cax = fig.add_axes([0.055, 0.3, 0.93, 0.03])\n",
    "cmap = plt.get_cmap(\"viridis\")\n",
    "norm = mpl.colors.Normalize(vmin=fluorinations[\"tfe\"][\"hist\"][\"psi\"].min(), vmax=fluorinations[\"tfe\"][\"hist\"][\"psi\"].max())\n",
    "sm = ScalarMappable(norm = norm, cmap=cmap)\n",
    "sm.set_array([])\n",
    "cbar = fig.colorbar(sm, cax=cax, orientation='horizontal')\n",
    "\n",
    "fig.text(0.5, 0.65, \"Ramachandran Probability Density\", ha='center', fontsize=14)\n",
    "fig.text(0.5, 0.35, \"phi angle $\\phi$\", ha='center', fontsize = 12)\n",
    "fig.text(-0.01, 0.5, 'psi angle $\\psi$', va='center', rotation='vertical', fontsize = 12)\n",
    "fig.text(0.5, 0.25, \"Probability Density\", ha='center', fontsize=12)\n",
    "\n",
    "plt.tight_layout()\n",
    "plt.show()"
   ]
  },
  {
   "cell_type": "markdown",
   "id": "2742cc19",
   "metadata": {},
   "source": [
    "In the figure above, it is shown that for each hexapeptide, they do exist as right-handed $\\alpha$-Helix and $\\beta$ sheets. There is a trend that the more fluorinated a hexapeptide is, the less area they visit in the Ramachandran plot. This can be interpreted as lesser flexibility in the hexapeptides, especially for TfeGly.\n",
    "\n",
    "In this shorter simulation, none of them visit the left-handed $\\beta$ sheets. This may indicate either they do not visit the $\\beta$ sheets region at all, or we need a longer simulation length."
   ]
  },
  {
   "cell_type": "markdown",
   "id": "cd3a2cea",
   "metadata": {},
   "source": [
    "# side chain torsion angle profiles $\\chi_1$"
   ]
  },
  {
   "cell_type": "code",
   "execution_count": null,
   "id": "4b9d11a4",
   "metadata": {},
   "outputs": [],
   "source": [
    "for k, f in fluorinations.items():\n",
    "  f[\"chi1\"] = md.compute_chi1(f[\"trajectory\"], periodic=True)\n",
    "\n",
    "c_chi1 = fluorinations[\"abu\"][\"chi1\"][0]"
   ]
  },
  {
   "cell_type": "markdown",
   "id": "1680c2ec",
   "metadata": {},
   "source": [
    "# AA WITH CHI1 IN THE CHAIN: VAL, EXG, PRO"
   ]
  },
  {
   "cell_type": "code",
   "execution_count": null,
   "id": "823bd4fb",
   "metadata": {},
   "outputs": [],
   "source": [
    "chi1_chains = [\"val\", \"exg\", \"pro\"]\n",
    "\n",
    "for i, chain in enumerate(chi1_chains):\n",
    "    amino_acids[chain][\"angle\"] = c_chi1[i]\n",
    "\n",
    "# for i in range(len(chi1_chain)):\n",
    "#     globals()['angle_%s' % chi1_chain[i]] = np.array(c_chi1)[:,i]"
   ]
  },
  {
   "cell_type": "markdown",
   "id": "590b6f49",
   "metadata": {},
   "source": [
    "### for whole series"
   ]
  },
  {
   "cell_type": "code",
   "execution_count": null,
   "id": "97092fe2",
   "metadata": {
    "scrolled": false
   },
   "outputs": [],
   "source": [
    "for i in name:\n",
    "    for j in chi1_chain:\n",
    "        globals()['dihedral_%s_%s' % (i, j)] = np.rad2deg(\n",
    "            md.compute_dihedrals(globals()['traj_%s' % i], globals()['angle_%s' % j]))"
   ]
  },
  {
   "cell_type": "code",
   "execution_count": null,
   "id": "c007d99d",
   "metadata": {},
   "outputs": [],
   "source": [
    "for k, f in flourinations.items():\n",
    "  f[\"dihedral\"] = [ np.rad2deg(md.compute_dihedrals(f[\"trajectory\"], amino_acids[chain][\"angle\"])) for chain in chi1_chains ]"
   ]
  },
  {
   "cell_type": "code",
   "execution_count": null,
   "id": "71651989",
   "metadata": {
    "scrolled": true
   },
   "outputs": [],
   "source": [
    "dihedral_abu_exg"
   ]
  },
  {
   "cell_type": "markdown",
   "id": "1dc3558b",
   "metadata": {},
   "source": [
    "### for sliced with length = 20000 ns each"
   ]
  },
  {
   "cell_type": "code",
   "execution_count": null,
   "id": "7495b619",
   "metadata": {},
   "outputs": [],
   "source": [
    "for i in name:\n",
    "    for j in chi1_chain:\n",
    "        for k in range(1,6):\n",
    "            globals()['dihedral_%s_%s_%s' % (i, j, k)] = np.rad2deg(\n",
    "                md.compute_dihedrals(globals()['%s_%s' % (i,k)], globals()['angle_%s' % j]))"
   ]
  },
  {
   "cell_type": "code",
   "execution_count": null,
   "id": "b44e7688",
   "metadata": {},
   "outputs": [],
   "source": [
    "dihedral_abu_exg_1"
   ]
  },
  {
   "cell_type": "markdown",
   "id": "a243b311",
   "metadata": {},
   "source": [
    "### visualization"
   ]
  },
  {
   "cell_type": "code",
   "execution_count": null,
   "id": "fde93060",
   "metadata": {},
   "outputs": [],
   "source": [
    "bins_ = 100\n",
    "\n",
    "for i in name:\n",
    "    for j in chi1_chain:\n",
    "        globals()['h_chi1_%s_%s' % (i, j)], globals()['e_chi1_%s_%s' % (i, j)] = np.histogram(\n",
    "            globals()['dihedral_%s_%s' % (i,j)][:,0], bins = bins_, density = True)"
   ]
  },
  {
   "cell_type": "code",
   "execution_count": null,
   "id": "4dfd2d06",
   "metadata": {
    "scrolled": true
   },
   "outputs": [],
   "source": [
    "e_chi1 = [globals()['e_chi1_%s_%s' % (i,j)] for i in name for j in chi1_chain]"
   ]
  },
  {
   "cell_type": "code",
   "execution_count": null,
   "id": "558b40e0",
   "metadata": {
    "scrolled": true
   },
   "outputs": [],
   "source": [
    "x_chi1_abu_val = (e_chi1_abu_val[1:] + e_chi1_abu_val[:-1]) / 2\n",
    "x_chi1_mfe_val = (e_chi1_mfe_val[1:] + e_chi1_mfe_val[:-1]) / 2\n",
    "x_chi1_dfe_val = (e_chi1_dfe_val[1:] + e_chi1_dfe_val[:-1]) / 2\n",
    "x_chi1_tfe_val = (e_chi1_tfe_val[1:] + e_chi1_tfe_val[:-1]) / 2\n",
    "\n",
    "x_chi1_abu_exg = (e_chi1_abu_exg[1:] + e_chi1_abu_exg[:-1]) / 2\n",
    "x_chi1_mfe_exg = (e_chi1_mfe_exg[1:] + e_chi1_mfe_exg[:-1]) / 2\n",
    "x_chi1_dfe_exg = (e_chi1_dfe_exg[1:] + e_chi1_dfe_exg[:-1]) / 2\n",
    "x_chi1_tfe_exg = (e_chi1_tfe_exg[1:] + e_chi1_tfe_exg[:-1]) / 2\n",
    "\n",
    "x_chi1_abu_pro = (e_chi1_abu_pro[1:] + e_chi1_abu_pro[:-1]) / 2\n",
    "x_chi1_mfe_pro = (e_chi1_mfe_pro[1:] + e_chi1_mfe_pro[:-1]) / 2\n",
    "x_chi1_dfe_pro = (e_chi1_dfe_pro[1:] + e_chi1_dfe_pro[:-1]) / 2\n",
    "x_chi1_tfe_pro = (e_chi1_tfe_pro[1:] + e_chi1_tfe_pro[:-1]) / 2"
   ]
  },
  {
   "cell_type": "code",
   "execution_count": null,
   "id": "8e13bc44",
   "metadata": {},
   "outputs": [],
   "source": [
    "len(x_chi1_abu_pro)"
   ]
  },
  {
   "cell_type": "code",
   "execution_count": null,
   "id": "02e7c126",
   "metadata": {
    "scrolled": false
   },
   "outputs": [],
   "source": [
    "fig, axs = plt.subplots(3,4, sharex = True, sharey = True)\n",
    "fig.suptitle(\"dihedral angle distribution of mutants from VGLAPG\", fontsize = \"x-large\")\n",
    "\n",
    "#abu\n",
    "axs[0,0].set_title(\"Abu\")\n",
    "axs[0,0].plot(x_chi1_abu_val, h_chi1_abu_val)\n",
    "axs[1,0].plot(x_chi1_abu_exg, h_chi1_abu_exg)\n",
    "axs[2,0].plot(x_chi1_abu_pro, h_chi1_abu_pro)\n",
    "\n",
    "#mfe\n",
    "axs[0,1].set_title(\"mfe\")\n",
    "axs[0,1].plot(x_chi1_mfe_val, h_chi1_mfe_val)\n",
    "axs[1,1].plot(x_chi1_mfe_exg, h_chi1_mfe_exg)\n",
    "axs[2,1].plot(x_chi1_mfe_pro, h_chi1_mfe_pro)\n",
    "\n",
    "#dfe\n",
    "axs[0,2].set_title(\"dfe\")\n",
    "axs[0,2].plot(x_chi1_dfe_val, h_chi1_dfe_val)\n",
    "axs[1,2].plot(x_chi1_dfe_exg, h_chi1_dfe_exg)\n",
    "axs[2,2].plot(x_chi1_dfe_pro, h_chi1_dfe_pro)\n",
    "\n",
    "#tfe\n",
    "axs[0,3].set_title(\"tfe\")\n",
    "axs[0,3].plot(x_chi1_tfe_val, h_chi1_tfe_val)\n",
    "axs[1,3].plot(x_chi1_tfe_exg, h_chi1_tfe_exg)\n",
    "axs[2,3].plot(x_chi1_tfe_pro, h_chi1_tfe_pro)\n",
    "#general formatting\n",
    "for ax in axs.flat:\n",
    "    ax.label_outer()\n",
    "    fig.text(0.5, 0, \"$\\chi_1$ angle\", ha = \"center\", fontsize = 12)\n",
    "    fig.text(0, 0.5, \"count\", va = \"center\", rotation =\"vertical\", fontsize = 12)\n",
    "    fig.text(1, 0.25, \"pro\", va = \"center\", rotation =\"vertical\")\n",
    "    fig.text(1, 0.5, \"exg\", va = \"center\", rotation =\"vertical\")\n",
    "    fig.text(1, 0.8, \"val\", va = \"center\", rotation =\"vertical\")\n",
    "    ax.tick_params(axis=\"x\", direction=\"in\")\n",
    "    ax.set(**{\n",
    "        \"xticks\": (-90, 0, 90),\n",
    "        \"xlim\": (-180, 180),\n",
    "        \"ylim\": (0)\n",
    "    })\n",
    "\n",
    "\n",
    "plt.tight_layout()\n",
    "plt.show()\n",
    "#fig.savefig(\"dihedral angle distribution-np.svg\")"
   ]
  },
  {
   "cell_type": "code",
   "execution_count": null,
   "id": "9dce64a9",
   "metadata": {},
   "outputs": [],
   "source": [
    "fig, (ax1, ax2, ax3, ax4) = plt.subplots(1, 4, sharex = True, sharey = True, figsize = (10,10))\n",
    "fig.suptitle('dihedral angle distribution of mutants from VGXAPG',\n",
    "             fontsize = 16,\n",
    "            y = .65)\n",
    "\n",
    "#abu\n",
    "ax1.set_title(\"Abu\")\n",
    "ax1.plot(x_chi1_abu_exg, h_chi1_abu_exg)\n",
    "ax1.set_ylabel(\" \")\n",
    "\n",
    "#mfe\n",
    "ax2.set_title(\"MfeGLy\")\n",
    "ax2.plot(x_chi1_mfe_exg, h_chi1_mfe_exg)\n",
    "\n",
    "#dfe\n",
    "ax3.set_title(\"DfeGly\")\n",
    "ax3.plot(x_chi1_dfe_exg, h_chi1_dfe_exg)\n",
    "\n",
    "#tfe\n",
    "ax4.set_title(\"TfeGly\")\n",
    "ax4.plot(x_chi1_tfe_exg, h_chi1_tfe_exg)\n",
    "\n",
    "#general formatting\n",
    "ax1.set_box_aspect(1)\n",
    "ax2.set_box_aspect(1)\n",
    "ax3.set_box_aspect(1)\n",
    "ax4.set_box_aspect(1)\n",
    "\n",
    "fig.text(0.5, 0.32, \"$\\chi_1$ Angle\", ha='center', fontsize = 12)\n",
    "fig.text(0, 0.5, 'Probability Density', va='center', rotation='vertical', fontsize = 12)\n",
    "\n",
    "plt.ylim(0, 0.025)\n",
    "plt.xlim(-180,180)\n",
    "plt.xticks([-120, -60, 0, 60, 120])\n",
    "plt.tight_layout()\n",
    "plt.show()\n",
    "#fig.savefig(\"graph/500_chi1.svg\", bbox_inches='tight')"
   ]
  },
  {
   "cell_type": "markdown",
   "id": "9fcbfb0e",
   "metadata": {},
   "source": [
    "### chi1 mean & error"
   ]
  },
  {
   "cell_type": "code",
   "execution_count": null,
   "id": "f6150549",
   "metadata": {
    "scrolled": true
   },
   "outputs": [],
   "source": [
    "chi1_chain"
   ]
  },
  {
   "cell_type": "code",
   "execution_count": null,
   "id": "bb0c7d4c",
   "metadata": {
    "scrolled": true
   },
   "outputs": [],
   "source": [
    "dihedral_abu_val_2"
   ]
  },
  {
   "cell_type": "code",
   "execution_count": null,
   "id": "02f8aed5",
   "metadata": {},
   "outputs": [],
   "source": [
    "#### ------------------------------- ####\n",
    "#### HISTOGRAM FOR SLICED TRAJECTORY ####\n",
    "#### ------------------------------- ####\n",
    "for i in name:\n",
    "    for j in chi1_chain:\n",
    "        for k in range(1,6):\n",
    "            globals()['h_chi1_%s_%s_%s' % (i, j, k)], globals()['e_chi1_%s_%s_%s' % (i,j,k)] = np.histogram(globals()['dihedral_%s_%s_%s' % (i,j,k)][:,0], bins = bins_, density = True)"
   ]
  },
  {
   "cell_type": "code",
   "execution_count": null,
   "id": "79beb8e6",
   "metadata": {},
   "outputs": [],
   "source": [
    "#### ------------------------------- ####\n",
    "#### AXIS FOR SLICED TRAJECTORY      ####\n",
    "#### ------------------------------- ####\n",
    "\n",
    "for i in name:\n",
    "    for j in chi1_chain:\n",
    "        for k in range(1,6):\n",
    "            globals()['x_chi1_%s_%s_%s' % (i, j, k)] = (globals()['e_chi1_%s_%s_%s' % (i,j,k)][1:] + globals()['e_chi1_%s_%s_%s' % (i,j,k)][:-1]) /2\n",
    "            \n",
    "            "
   ]
  },
  {
   "cell_type": "code",
   "execution_count": null,
   "id": "fc49644b",
   "metadata": {
    "scrolled": true
   },
   "outputs": [],
   "source": [
    "len(x_chi1_abu_val_1)"
   ]
  },
  {
   "cell_type": "code",
   "execution_count": null,
   "id": "984512e1",
   "metadata": {},
   "outputs": [],
   "source": [
    "#### ------------------------------- ####\n",
    "#### MEAN FOR SLICED TRAJECTORY      ####\n",
    "#### ------------------------------- ####"
   ]
  },
  {
   "cell_type": "code",
   "execution_count": null,
   "id": "b0513e42",
   "metadata": {},
   "outputs": [],
   "source": [
    "#### ------------------------------- ####\n",
    "#### ARRAY FOR SLICED TRAJECTORY     ####\n",
    "#### ------------------------------- ####\n",
    "\n",
    "for i in name:\n",
    "    for j in chi1_chain:\n",
    "        globals()['array_%s_%s' % (i,j)] = []\n",
    "\n",
    "for i in name:\n",
    "    for j in chi1_chain:\n",
    "        for k in range(1,6):\n",
    "            globals()['array_%s_%s' % (i,j)].append(np.array(globals()['h_chi1_%s_%s_%s' % (i,j,k)]))"
   ]
  },
  {
   "cell_type": "code",
   "execution_count": null,
   "id": "ae6ac9d6",
   "metadata": {},
   "outputs": [],
   "source": [
    "#### ------------------------------- ####\n",
    "#### MEAN CHI1                       ####\n",
    "#### ------------------------------- ####\n",
    "\n",
    "for i in name:\n",
    "    for j in chi1_chain:\n",
    "        globals()['mean_chi1_%s_%s' % (i,j)] = np.mean(globals()['array_%s_%s' % (i,j)], axis = 0)\n",
    "    \n",
    "#### ------------------------------- ####\n",
    "#### ERROR CHI1                      ####\n",
    "#### ------------------------------- ####\n",
    "\n",
    "for i in name:\n",
    "    for j in chi1_chain:\n",
    "        globals()['error_chi1_%s_%s' % (i,j)] = np.std(globals()['array_%s_%s' % (i,j)], axis = 0)"
   ]
  },
  {
   "cell_type": "code",
   "execution_count": null,
   "id": "43d67be1",
   "metadata": {
    "scrolled": true
   },
   "outputs": [],
   "source": [
    "fig, (ax1, ax2, ax3, ax4) = plt.subplots(1, 4, sharex = True, sharey = True, figsize = (10,10))\n",
    "fig.suptitle(\"Dihedral Angle $\\chi_1$ Distribution\", fontsize = \"x-large\", y = .65)\n",
    "\n",
    "ax1.plot(x_chi1_abu_exg, h_chi1_abu_exg, label = \"mean\")\n",
    "ax2.plot(x_chi1_mfe_exg, h_chi1_mfe_exg, label = \"mean\")\n",
    "ax3.plot(x_chi1_dfe_exg, h_chi1_dfe_exg, label = \"mean\")\n",
    "ax4.plot(x_chi1_tfe_exg, h_chi1_tfe_exg, label = \"mean\")\n",
    "\n",
    "ax1.errorbar(x_chi1_abu_exg, h_chi1_abu_exg, yerr = error_chi1_abu_exg, label = \"error\", alpha = 0.5)\n",
    "ax2.errorbar(x_chi1_mfe_exg, h_chi1_mfe_exg, yerr = error_chi1_mfe_exg, label = \"error\", alpha = 0.5)\n",
    "ax3.errorbar(x_chi1_dfe_exg, h_chi1_dfe_exg, yerr = error_chi1_dfe_exg, label = \"error\", alpha = 0.5)\n",
    "ax4.errorbar(x_chi1_tfe_exg, h_chi1_tfe_exg, yerr = error_chi1_tfe_exg, label = \"error\", alpha = 0.5)\n",
    "\n",
    "ax1.legend()\n",
    "ax2.legend()\n",
    "ax3.legend()\n",
    "ax4.legend()\n",
    "\n",
    "ax1.set_title(\"Abu\")\n",
    "ax2.set_title(\"MfeGLy\")\n",
    "ax3.set_title(\"DfeGly\")\n",
    "ax4.set_title(\"TfeGly\")\n",
    "\n",
    "ax1.set_box_aspect(1)\n",
    "ax2.set_box_aspect(1)\n",
    "ax3.set_box_aspect(1)\n",
    "ax4.set_box_aspect(1)\n",
    "\n",
    "\n",
    "fig.text(0.5, 0.32, \"$\\chi_1$ Angle\", ha='center', fontsize = 12)\n",
    "fig.text(-0.02, 0.48, 'Probability Density', va='center', rotation='vertical', fontsize = 12)\n",
    "\n",
    "plt.ylim(0, 0.028)\n",
    "plt.xlim(-180,180)\n",
    "plt.xticks([-120, -60, 0, 60, 120])\n",
    "plt.tight_layout()\n",
    "plt.show()\n",
    "#fig.savefig(\"graph/500_chi1_mean_error.png\", bbox_inches='tight')"
   ]
  },
  {
   "cell_type": "markdown",
   "id": "58af8c08",
   "metadata": {},
   "source": [
    "**INTERPRETATION**\n",
    "\n",
    "Plotting the distribution of the side chain torsion angle $\\chi_1$ can also be used to visualize the flexibility of the hexapeptides. Plotted as histogram and weighing the probability density, the side chain torsion angle $\\chi_1$ profiles reveal that there is an increasing trend of the trans conformation ($+/-$180°), which happens simultaneously with the decrease of the gauche(+) conformation (-60°). This can be interpreted that the more substituted a hexapeptide with fluorine is, the higher is the tendency to be in a trans conformation due to the steric hinderance with other atoms in the molecule. The gauche(-) conformation (+60°), on the other hand, seems to be stagnant as the more fluorinated a hexapeptide is, and there is no meaningful difference in the result.\n",
    "\n",
    "We can also see that the errors are relatively large—this is also an indication that the sample size (length of the trajectory) is too small, hence we need a longer simulation."
   ]
  },
  {
   "cell_type": "markdown",
   "id": "c90bfa9b",
   "metadata": {},
   "source": [
    "# end-to-end distance\n",
    "\n",
    "begin: N-capping @ 0\n",
    "\n",
    "end: C-capping @ 67\n",
    "\n",
    "**SLICED!**"
   ]
  },
  {
   "cell_type": "code",
   "execution_count": null,
   "id": "e777c57f",
   "metadata": {
    "scrolled": true
   },
   "outputs": [],
   "source": [
    "trajectory_abu_500.topology.to_dataframe()"
   ]
  },
  {
   "cell_type": "code",
   "execution_count": null,
   "id": "e87bcd9d",
   "metadata": {},
   "outputs": [],
   "source": [
    "md.compute_distances(abu_1, [[0,67]], periodic=True)"
   ]
  },
  {
   "cell_type": "code",
   "execution_count": null,
   "id": "df82d818",
   "metadata": {},
   "outputs": [],
   "source": [
    "for i in name:\n",
    "    for j in range(1,6):\n",
    "        globals()['cd_%s_%s' % (i,j)] = md.compute_distances(globals()['%s_%s' % (i,j)], [[0,67]], periodic=True)"
   ]
  },
  {
   "cell_type": "code",
   "execution_count": null,
   "id": "e77e913e",
   "metadata": {},
   "outputs": [],
   "source": [
    "cd_abu = md.compute_distances(traj_abu, [[0,67]], periodic=True)\n",
    "cd_mfe = md.compute_distances(traj_mfe, [[0,67]], periodic=True)\n",
    "cd_dfe = md.compute_distances(traj_dfe, [[0,67]], periodic=True)\n",
    "cd_tfe = md.compute_distances(traj_tfe, [[0,67]], periodic=True)\n"
   ]
  },
  {
   "cell_type": "code",
   "execution_count": null,
   "id": "51a23f95",
   "metadata": {},
   "outputs": [],
   "source": [
    "cd_abu"
   ]
  },
  {
   "cell_type": "code",
   "execution_count": null,
   "id": "299f4cc6",
   "metadata": {
    "scrolled": true
   },
   "outputs": [],
   "source": [
    "plt.hist(cd_tfe)"
   ]
  },
  {
   "cell_type": "code",
   "execution_count": null,
   "id": "aecc02b2",
   "metadata": {},
   "outputs": [],
   "source": [
    "cd_abu.shape"
   ]
  },
  {
   "cell_type": "code",
   "execution_count": null,
   "id": "987b51eb",
   "metadata": {},
   "outputs": [],
   "source": [
    "fig, ax = plt.subplots(1,4, figsize=(12,3), sharex=True, sharey=True)\n",
    "\n",
    "plt.suptitle(\"End-to-End distance of the Total 100 ns Trajectory\")\n",
    "\n",
    "sns.histplot(cd_abu, stat='density', bins=100, kde=True, linewidth=0, ax=ax[0])\n",
    "sns.histplot(cd_mfe, stat='density', bins=100, kde=True, linewidth=0, ax=ax[1])\n",
    "sns.histplot(cd_dfe, stat='density', bins=100, kde=True, linewidth=0, ax=ax[2])\n",
    "sns.histplot(cd_tfe, stat='density', bins=100, kde=True, linewidth=0, ax=ax[3])\n",
    "\n",
    "fig.text(0.4,0, \"Distance [nm]\")\n",
    "\n",
    "plt.show()"
   ]
  },
  {
   "cell_type": "markdown",
   "id": "66507e87",
   "metadata": {},
   "source": [
    "## distribution"
   ]
  },
  {
   "cell_type": "code",
   "execution_count": null,
   "id": "671fa59c",
   "metadata": {},
   "outputs": [],
   "source": [
    "#h_abu, xedges_abu = np.histogram(backbone_rmsd_abu_500, bins=60, density=True,)\n",
    "\n",
    "#mids = (xedges_abu[1:] + xedges_abu[:-1]) / 2\n",
    "#mids_mfe = (xedges_mfe[1:] + xedges_mfe[:-1]) / 2\n",
    "#mids_dfe = (xedges_dfe[1:] + xedges_dfe[:-1]) / 2\n",
    "#mids_tfe = (xedges_tfe[1:] + xedges_tfe[:-1]) / 2\n"
   ]
  },
  {
   "cell_type": "code",
   "execution_count": null,
   "id": "4c5db475",
   "metadata": {},
   "outputs": [],
   "source": [
    "n = 100\n",
    "\n",
    "for i in name:\n",
    "    for j in range(1,6):\n",
    "        globals()['h_ee_%s_%s' % (i,j)], globals()['e_ee_%s_%s' % (i,j)] = np.histogram(\n",
    "            globals()['cd_%s_%s' % (i,j)],\n",
    "            bins = n,\n",
    "            density = True)\n",
    "        \n",
    "for i in name:\n",
    "    for j in range(1,6):\n",
    "        globals()['x_%s' % i] = (globals()['e_ee_%s_%s' % (i,j)][1:] + globals()['e_ee_%s_%s' % (i,j)][:-1]) /2"
   ]
  },
  {
   "cell_type": "code",
   "execution_count": null,
   "id": "4dc50a1b",
   "metadata": {
    "scrolled": true
   },
   "outputs": [],
   "source": [
    "x_tfe"
   ]
  },
  {
   "cell_type": "code",
   "execution_count": null,
   "id": "da9e3e41",
   "metadata": {
    "scrolled": true
   },
   "outputs": [],
   "source": [
    "min(cd_abu)"
   ]
  },
  {
   "cell_type": "code",
   "execution_count": null,
   "id": "6290d6e8",
   "metadata": {},
   "outputs": [],
   "source": [
    "min(x_abu)"
   ]
  },
  {
   "cell_type": "code",
   "execution_count": null,
   "id": "fb92a869",
   "metadata": {},
   "outputs": [],
   "source": [
    "#test_array_histogram_1 = np.array([h_ee_dfe_1, h_ee_dfe_2])\n",
    "#np.mean(test_array_histogram_1, axis=0)\n",
    "\n",
    "array_abu = np.array([h_ee_abu_1, h_ee_abu_2, h_ee_abu_3, h_ee_abu_4, h_ee_abu_5])\n",
    "array_mfe = np.array([h_ee_mfe_1, h_ee_mfe_2, h_ee_mfe_3, h_ee_mfe_4, h_ee_mfe_5])\n",
    "array_dfe = np.array([h_ee_dfe_1, h_ee_dfe_2, h_ee_dfe_3, h_ee_dfe_4, h_ee_dfe_5])\n",
    "array_tfe = np.array([h_ee_tfe_1, h_ee_tfe_2, h_ee_tfe_3, h_ee_tfe_4, h_ee_tfe_5])\n",
    "\n",
    "mean_abu = np.mean(array_abu, axis = 0)\n",
    "mean_mfe = np.mean(array_mfe, axis = 0)\n",
    "mean_dfe = np.mean(array_dfe, axis = 0)\n",
    "mean_tfe = np.mean(array_tfe, axis = 0)\n",
    "\n",
    "std_abu = np.std(array_abu, axis = 0)\n",
    "std_mfe = np.std(array_mfe, axis = 0)\n",
    "std_dfe = np.std(array_dfe, axis = 0)\n",
    "std_tfe = np.std(array_tfe, axis = 0)"
   ]
  },
  {
   "cell_type": "code",
   "execution_count": null,
   "id": "6f3c34a7",
   "metadata": {
    "scrolled": true
   },
   "outputs": [],
   "source": [
    "fig, (ax1, ax2, ax3, ax4) = plt.subplots(1, 4, sharex = True, sharey = True, figsize = (10,10))\n",
    "fig.suptitle(\"Averaged End-to-End Distance\", fontsize = \"x-large\", y = .65)\n",
    "\n",
    "\n",
    "ax1.plot(x_abu, mean_abu, label = \"mean\")\n",
    "ax2.plot(x_mfe, mean_mfe, label = \"mean\")\n",
    "ax3.plot(x_dfe, mean_dfe, label = \"mean\")\n",
    "ax4.plot(x_tfe, mean_tfe, label = \"mean\")\n",
    "\n",
    "ax1.set_title(\"Abu\")\n",
    "ax2.set_title(\"MfeGLy\")\n",
    "ax3.set_title(\"DfeGly\")\n",
    "ax4.set_title(\"TfeGly\")\n",
    "\n",
    "ax1.set_box_aspect(1)\n",
    "ax2.set_box_aspect(1)\n",
    "ax3.set_box_aspect(1)\n",
    "ax4.set_box_aspect(1)\n",
    "\n",
    "ax1.errorbar(x_abu, mean_abu, yerr = std_abu, label = \"error\", alpha=0.5)\n",
    "ax2.errorbar(x_mfe, mean_mfe, yerr = std_mfe, label = \"error\", alpha=0.5)\n",
    "ax3.errorbar(x_dfe, mean_dfe, yerr = std_dfe, label = \"error\", alpha=0.5)\n",
    "ax4.errorbar(x_tfe, mean_tfe, yerr = std_tfe, label = \"error\", alpha=0.5)\n",
    "\n",
    "ax1.legend()\n",
    "ax2.legend()\n",
    "ax3.legend()\n",
    "ax4.legend()\n",
    "\n",
    "fig.text(0.5, 0.37, \"distance [nm]\", ha = \"center\", fontsize = 12)\n",
    "fig.text(0.05, 0.5, \"Probability\", va = \"center\", rotation =\"vertical\", fontsize = 12)\n",
    "plt.xticks([0.5, 1, 1.5, 2])\n",
    "plt.ylim(0)\n",
    "    \n",
    "plt.show()"
   ]
  },
  {
   "cell_type": "markdown",
   "id": "c7c38e5e",
   "metadata": {},
   "source": [
    "**INTERPRETATION**\n",
    "\n",
    "The end-to-end distance of each peptide was measured from the C-Atom at the glycine C-terminus to the N-Atom at amide of the valine N-Terminus. The results were plotted as histograms, weighing their probability density. The two peaks in the plot can be interpreted as $\\alpha$ helix or closed state and $\\beta$ sheet or open states. Generally, as the more substituted a hexapeptide is, the higher their probability density in the closed system is. Yet if it's being observed closer, there is a slight shift in their distance (tab. \\ref{fig:tabe2e}) with decreasing distance from Abu to TfeGly. Probably this can be interpreted that the higher fluorine-subsituted hexapeptide do have stronger hydrogen bonds, so that the hexapeptides in both as $\\alpha$ helices and $\\beta$ sheets structure tend to bond tighter to itself.\n",
    "\n"
   ]
  },
  {
   "cell_type": "markdown",
   "id": "0961770a",
   "metadata": {},
   "source": [
    "# hydrogen bonds"
   ]
  },
  {
   "cell_type": "code",
   "execution_count": null,
   "id": "827a949b",
   "metadata": {},
   "outputs": [],
   "source": [
    "hbond_abu_1 = md.wernet_nilsson(abu_1, exclude_water=True, periodic=False)\n",
    "hbond_abu_2 = md.wernet_nilsson(abu_2, exclude_water=True, periodic=False)\n",
    "hbond_abu_3 = md.wernet_nilsson(abu_3, exclude_water=True, periodic=False)\n",
    "hbond_abu_4 = md.wernet_nilsson(abu_4, exclude_water=True, periodic=False)\n",
    "hbond_abu_5 = md.wernet_nilsson(abu_5, exclude_water=True, periodic=False)\n",
    "\n",
    "hbond_mfe_1 = md.wernet_nilsson(mfe_1, exclude_water=True, periodic=False)\n",
    "hbond_mfe_2 = md.wernet_nilsson(mfe_2, exclude_water=True, periodic=False)\n",
    "hbond_mfe_3 = md.wernet_nilsson(mfe_3, exclude_water=True, periodic=False)\n",
    "hbond_mfe_4 = md.wernet_nilsson(mfe_4, exclude_water=True, periodic=False)\n",
    "hbond_mfe_5 = md.wernet_nilsson(mfe_5, exclude_water=True, periodic=False)\n",
    "\n",
    "hbond_dfe_1 = md.wernet_nilsson(dfe_1, exclude_water=True, periodic=False)\n",
    "hbond_dfe_2 = md.wernet_nilsson(dfe_2, exclude_water=True, periodic=False)\n",
    "hbond_dfe_3 = md.wernet_nilsson(dfe_3, exclude_water=True, periodic=False)\n",
    "hbond_dfe_4 = md.wernet_nilsson(dfe_4, exclude_water=True, periodic=False)\n",
    "hbond_dfe_5 = md.wernet_nilsson(dfe_5, exclude_water=True, periodic=False)\n",
    "\n",
    "hbond_tfe_1 = md.wernet_nilsson(tfe_1, exclude_water=True, periodic=False)\n",
    "hbond_tfe_2 = md.wernet_nilsson(tfe_2, exclude_water=True, periodic=False)\n",
    "hbond_tfe_3 = md.wernet_nilsson(tfe_3, exclude_water=True, periodic=False)\n",
    "hbond_tfe_4 = md.wernet_nilsson(tfe_4, exclude_water=True, periodic=False)\n",
    "hbond_tfe_5 = md.wernet_nilsson(tfe_5, exclude_water=True, periodic=False)"
   ]
  },
  {
   "cell_type": "code",
   "execution_count": null,
   "id": "f2e1cd13",
   "metadata": {},
   "outputs": [],
   "source": [
    "hbond_abu = md.wernet_nilsson(traj_abu, exclude_water=True, periodic=False)\n",
    "hbond_mfe = md.wernet_nilsson(traj_mfe, exclude_water=True, periodic=False)\n",
    "hbond_dfe = md.wernet_nilsson(traj_dfe, exclude_water=True, periodic=False)\n",
    "hbond_tfe = md.wernet_nilsson(traj_tfe, exclude_water=True, periodic=False)\n"
   ]
  },
  {
   "cell_type": "code",
   "execution_count": null,
   "id": "888b635d",
   "metadata": {},
   "outputs": [],
   "source": [
    "n = 1\n",
    "\n",
    "def hbond(x):\n",
    "    \"calculating hydrogen bonds in abu, in all timesteps\"\n",
    "    return md.wernet_nilsson(x, exclude_water = True, periodic = False)\n"
   ]
  },
  {
   "cell_type": "code",
   "execution_count": null,
   "id": "022e30b7",
   "metadata": {},
   "outputs": [],
   "source": [
    "#def itn_abu(trajectory_abu_100, hbond_abu):\n",
    "#    \"\"\"Convert hydrogen bond index tuple to name\"\"\"\n",
    "#    return f\"{trajectory_abu_100.topology.atom(hbond_abu[0])}–{trajectory_abu_100.topology.atom(hbond_abu[2])}\""
   ]
  },
  {
   "cell_type": "code",
   "execution_count": null,
   "id": "73516d7b",
   "metadata": {},
   "outputs": [],
   "source": [
    "def hbond_name(traj, hbond_index):\n",
    "    \"\"\"Convert hydrogen bond index tuple to name\"\"\"\n",
    "    return f\"{traj.topology.atom(hbond_index[0])}–{traj.topology.atom(hbond_index[2])}\""
   ]
  },
  {
   "cell_type": "code",
   "execution_count": null,
   "id": "27aebcb7",
   "metadata": {},
   "outputs": [],
   "source": [
    "from collections import defaultdict"
   ]
  },
  {
   "cell_type": "code",
   "execution_count": null,
   "id": "9af0c10f",
   "metadata": {},
   "outputs": [],
   "source": [
    "# Count bonds\n",
    "hb_frequency = defaultdict(int)"
   ]
  },
  {
   "cell_type": "code",
   "execution_count": null,
   "id": "b384a49f",
   "metadata": {},
   "outputs": [],
   "source": [
    "for frame in hbond_abu_1:\n",
    "    for bond in frame:\n",
    "        hb_frequency[tuple(bond)] += 1"
   ]
  },
  {
   "cell_type": "code",
   "execution_count": null,
   "id": "ffe5df89",
   "metadata": {
    "scrolled": false
   },
   "outputs": [],
   "source": [
    "def hbond_count(traj):\n",
    "    for k, v in hb_frequency.items():\n",
    "        print(f\"{hbond_name(traj, k)}: {v}\")\n",
    "    print(f\"{hbond_name(traj, k)}: {v}\")\n",
    "    print(k)\n",
    "    print('')"
   ]
  },
  {
   "cell_type": "code",
   "execution_count": null,
   "id": "0764d508",
   "metadata": {},
   "outputs": [],
   "source": [
    "hbond_count(traj_abu)"
   ]
  },
  {
   "cell_type": "code",
   "execution_count": null,
   "id": "69463aa2",
   "metadata": {},
   "outputs": [],
   "source": [
    "hbond_count(traj_mfe) == hbond_count(traj_dfe) == hbond_count(traj_tfe)"
   ]
  },
  {
   "cell_type": "code",
   "execution_count": null,
   "id": "26703761",
   "metadata": {
    "scrolled": true
   },
   "outputs": [],
   "source": [
    "keys = list(map(lambda keys: hbond_name(tfe_1, keys), hb_frequency.keys()))"
   ]
  },
  {
   "cell_type": "code",
   "execution_count": null,
   "id": "0ea050ce",
   "metadata": {},
   "outputs": [],
   "source": [
    "print(keys)"
   ]
  },
  {
   "cell_type": "code",
   "execution_count": null,
   "id": "65e89cca",
   "metadata": {},
   "outputs": [],
   "source": [
    "def mer(dict1, dict2):\n",
    "    return(dict1.update(dict2))"
   ]
  },
  {
   "cell_type": "code",
   "execution_count": null,
   "id": "21034a0a",
   "metadata": {},
   "outputs": [],
   "source": [
    "temp = {}\n",
    "temp1 = {}"
   ]
  },
  {
   "cell_type": "code",
   "execution_count": null,
   "id": "d9349054",
   "metadata": {},
   "outputs": [],
   "source": [
    "mer(temp, hb_frequency)"
   ]
  },
  {
   "cell_type": "code",
   "execution_count": null,
   "id": "0ed992bf",
   "metadata": {},
   "outputs": [],
   "source": [
    "def h_perc(h_dict):\n",
    "    total = len(tfe_3)\n",
    "    for j in h_dict:\n",
    "        h_dict[j] = (float)(h_dict[j])/total*100\n",
    "    return h_dict"
   ]
  },
  {
   "cell_type": "code",
   "execution_count": null,
   "id": "b469c956",
   "metadata": {},
   "outputs": [],
   "source": [
    "h_perc(temp)"
   ]
  },
  {
   "cell_type": "code",
   "execution_count": null,
   "id": "8adec2cf",
   "metadata": {},
   "outputs": [],
   "source": [
    "#rounding up the decimals\n",
    "k = 5\n",
    "\n",
    "#loop to iterate values\n",
    "res = dict()\n",
    "for key in temp:\n",
    "    res[key] = round(temp[key], k)\n",
    "    \n",
    "print(\"rounded up:\" + str(res) )"
   ]
  },
  {
   "cell_type": "code",
   "execution_count": null,
   "id": "3c18342c",
   "metadata": {},
   "outputs": [],
   "source": [
    "#rounding up the decimals\n",
    "k = 1\n",
    "\n",
    "#loop to iterate values\n",
    "percentage = dict()\n",
    "for key in temp1:\n",
    "    percentage[key] = round(temp1[key], k)\n",
    "    \n",
    "print(\"rounded up:\" + str(percentage) )"
   ]
  },
  {
   "cell_type": "code",
   "execution_count": null,
   "id": "325d1498",
   "metadata": {},
   "outputs": [],
   "source": [
    "fig, ax = plt.subplots()\n",
    "fig.suptitle(\"Frequency of Hydrogen Bonds in VG(TfeGly)APG\", fontsize = \"x-large\")\n",
    "\n",
    "ax.barh(keys, res.values())\n",
    "for i, v in enumerate(res.values()):\n",
    "    ax.text(v + 0.1, i - 0.1, str(v))\n",
    "\n",
    "\n",
    "\n",
    "plt.xlim(0, 6)\n",
    "plt.viridis()\n",
    "plt.xlabel(\"frequency (in percent)\")\n",
    "plt.ylabel(\"h-bonds\")\n",
    "plt.show()\n"
   ]
  },
  {
   "cell_type": "markdown",
   "id": "0cb42967",
   "metadata": {},
   "source": [
    "Although previous papers stated that an amino acid with at least one fluorine substitution will be more hydrophobic and waters are more tightly held at DfeGly and TfeGly\\cite{2015} , this thesis proves otherwise. The non-fluorinated hexapeptide itself is hydrophobic \\cite{2017} , but there is hardly any difference in the intramolecular hydrogen bonds between the any of the hexapeptides."
   ]
  }
 ],
 "metadata": {
  "interpreter": {
   "hash": "aee8b7b246df8f9039afb4144a1f6fd8d2ca17a180786b69acc140d282b71a49"
  },
  "kernelspec": {
   "display_name": "Python 3",
   "language": "python",
   "name": "python3"
  },
  "language_info": {
   "codemirror_mode": {
    "name": "ipython",
    "version": 3
   },
   "file_extension": ".py",
   "mimetype": "text/x-python",
   "name": "python",
   "nbconvert_exporter": "python",
   "pygments_lexer": "ipython3",
   "version": "3.9.2"
  }
 },
 "nbformat": 4,
 "nbformat_minor": 5
}
